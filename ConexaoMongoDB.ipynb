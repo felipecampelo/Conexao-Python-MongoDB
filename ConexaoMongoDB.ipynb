{
  "nbformat": 4,
  "nbformat_minor": 0,
  "metadata": {
    "colab": {
      "name": "ConexaoMongoDB.ipynb",
      "provenance": [],
      "authorship_tag": "ABX9TyMyj6++IxmBZbCMXLAjAaMp",
      "include_colab_link": true
    },
    "kernelspec": {
      "name": "python3",
      "display_name": "Python 3"
    },
    "language_info": {
      "name": "python"
    }
  },
  "cells": [
    {
      "cell_type": "markdown",
      "metadata": {
        "id": "view-in-github",
        "colab_type": "text"
      },
      "source": [
        "<a href=\"https://colab.research.google.com/github/felipecampelo/Conexao-Python-MongoDB/blob/main/ConexaoMongoDB.ipynb\" target=\"_parent\"><img src=\"https://colab.research.google.com/assets/colab-badge.svg\" alt=\"Open In Colab\"/></a>"
      ]
    },
    {
      "cell_type": "markdown",
      "source": [
        "##`CRUD`\n",
        "\n",
        "✅ Create: `Inserir dados`\n",
        "\n",
        "✅ Read: `Buscar dados`\n",
        "\n",
        "✅ Update: `Atualizar dados`\n",
        "\n",
        "✅ Delete: `Deletar dados`"
      ],
      "metadata": {
        "id": "PTsYlqabFnIO"
      }
    },
    {
      "cell_type": "markdown",
      "source": [
        "####⚡ Instalação de bibliotecas necessárias ⚡"
      ],
      "metadata": {
        "id": "sgd0kNmzhkJp"
      }
    },
    {
      "cell_type": "code",
      "execution_count": null,
      "metadata": {
        "id": "jJu5vqj2Ng-n"
      },
      "outputs": [],
      "source": [
        "pip install pymongo[srv]"
      ]
    },
    {
      "cell_type": "markdown",
      "source": [
        "####⚡ Importação de bibliotecas ⚡"
      ],
      "metadata": {
        "id": "sc8V9fOkToRU"
      }
    },
    {
      "cell_type": "code",
      "source": [
        "import pymongo\n",
        "from pymongo import MongoClient\n",
        "import urllib.parse"
      ],
      "metadata": {
        "id": "T5uk_LrDQOn0"
      },
      "execution_count": null,
      "outputs": []
    },
    {
      "cell_type": "markdown",
      "source": [
        "####⚡ Conexão ao MongoDB ⚡"
      ],
      "metadata": {
        "id": "IcjnV9FRR5Jb"
      }
    },
    {
      "cell_type": "code",
      "source": [
        "# Conexão ao servidor\n",
        "mongo_uri = 'mongodb+srv://felipecampelo:' + urllib.parse.quote(\"Campelo123%\") + '@felipe-aula-soulcode.6epebqg.mongodb.net/?retryWrites=true&w=majority'\n",
        "client = pymongo.MongoClient(mongo_uri)\n",
        "\n",
        "# Selecionar Database e Coleção\n",
        "db = client['aulamongo'] # Database -> aulamongo\n",
        "colecao = db.aula1 # Collection -> aula1"
      ],
      "metadata": {
        "id": "AlgycIZWTFW3"
      },
      "execution_count": null,
      "outputs": []
    },
    {
      "cell_type": "markdown",
      "source": [
        "# ⭕ **Inserindo dados** ⭕"
      ],
      "metadata": {
        "id": "7che6IBXVQ4w"
      }
    },
    {
      "cell_type": "code",
      "source": [
        "# Inserindo um dado na coleção\n",
        "colecao.insert_one({\"nome\":\"FELIPE CAMPELO\",\"idade\":\"25\"})"
      ],
      "metadata": {
        "colab": {
          "base_uri": "https://localhost:8080/"
        },
        "id": "oN0DuEcAVSxH",
        "outputId": "d22376b2-2464-4365-d784-792bb69d6a0e"
      },
      "execution_count": null,
      "outputs": [
        {
          "output_type": "execute_result",
          "data": {
            "text/plain": [
              "<pymongo.results.InsertOneResult at 0x7fc76a0e2090>"
            ]
          },
          "metadata": {},
          "execution_count": 5
        }
      ]
    },
    {
      "cell_type": "code",
      "source": [
        "# Inserindo vários dados na coleção\n",
        "colecao.insert_many([{\"nome\":\"FELIPE CAMPELO\",\"idade\":\"25\"},\n",
        "                     {\"nome\":\"ANA ALICE\", \"idade\":15}])"
      ],
      "metadata": {
        "colab": {
          "base_uri": "https://localhost:8080/"
        },
        "id": "gC4uYiQb9zUe",
        "outputId": "e483a3a2-7e2b-4c16-dff6-3480668f1a80"
      },
      "execution_count": null,
      "outputs": [
        {
          "output_type": "execute_result",
          "data": {
            "text/plain": [
              "<pymongo.results.InsertManyResult at 0x7fc757e3aed0>"
            ]
          },
          "metadata": {},
          "execution_count": 17
        }
      ]
    },
    {
      "cell_type": "code",
      "source": [
        "# Boas práticas\n",
        "dados = {\"nome\":\"FELIPE CAMPELO\", \"idade\":25}\n",
        "info = colecao.insert_one(dados)\n",
        "\n",
        "# Imprimindo o ID do documento inserido\n",
        "print(info.inserted_id)"
      ],
      "metadata": {
        "colab": {
          "base_uri": "https://localhost:8080/"
        },
        "id": "KL6vcu_dgyh2",
        "outputId": "a3abd537-9c1d-4756-cda7-a2bcaf3f8ad9"
      },
      "execution_count": null,
      "outputs": [
        {
          "output_type": "stream",
          "name": "stdout",
          "text": [
            "62ed19b1e522c64234cac534\n"
          ]
        }
      ]
    },
    {
      "cell_type": "code",
      "source": [
        "# Contagem de dados\n",
        "colecao.count_documents({})"
      ],
      "metadata": {
        "colab": {
          "base_uri": "https://localhost:8080/"
        },
        "id": "GklKFor0aaQE",
        "outputId": "cae89a78-feab-4887-b7bf-7e99076efdbc"
      },
      "execution_count": null,
      "outputs": [
        {
          "output_type": "execute_result",
          "data": {
            "text/plain": [
              "9"
            ]
          },
          "metadata": {},
          "execution_count": 19
        }
      ]
    },
    {
      "cell_type": "markdown",
      "source": [
        "# **⭕ Buscando dados ⭕**\n",
        "\n",
        "`$lt = Menor que $gt = maior que | $lte = Menor igual | $gte = Maior e igual | $ne = Diferente | $in = Dentro de | $or = Ou`"
      ],
      "metadata": {
        "id": "emFn3rJJAINw"
      }
    },
    {
      "cell_type": "code",
      "source": [
        "# Buscando todos os dados na coleção\n",
        "for x in colecao.find():\n",
        "  print(x)"
      ],
      "metadata": {
        "id": "ct_jpdnEAIfg"
      },
      "execution_count": null,
      "outputs": []
    },
    {
      "cell_type": "code",
      "source": [
        "# Busca específica 1\n",
        "busca = {\"idade\":{\"$lt\":16}} # Idade menor que 16\n",
        "docu = colecao.find(busca)\n",
        "\n",
        "for x in docu:\n",
        "  print(x)\n",
        "\n",
        "print()\n",
        "\n",
        "# Busca específica 2\n",
        "busca = {\"idade\":{\"$in\":[15, 25]}} # Idade sendo 15 ou 25\n",
        "docu = colecao.find(busca)\n",
        "\n",
        "for x in docu:\n",
        "  print(x)\n",
        "\n",
        "print()\n",
        "\n",
        "# Busca específica 3\n",
        "busca = {'$or':[{\"nome\":\"FELIPE CAMPELO\"},{\"idade\":15}]} # Nome é FELIPE CAMPELO ou idade é 15\n",
        "docu = colecao.find(busca)\n",
        "\n",
        "for x in docu:\n",
        "  print(x)"
      ],
      "metadata": {
        "id": "9DvnD4m0DLyT"
      },
      "execution_count": null,
      "outputs": []
    },
    {
      "cell_type": "markdown",
      "source": [
        "#⭕ **Atualizando dados** ⭕"
      ],
      "metadata": {
        "id": "bC4ZQ5t1OROI"
      }
    },
    {
      "cell_type": "code",
      "source": [
        "# Para atualizar, é preciso buscar o que deseja atualizar\n",
        "busca = {\"idade\": {\"$gte\":18}}\n",
        "modifica = {\"$set\": {\"emancipado\":\"SIM\"}}\n",
        "\n",
        "colecao.update_many(busca, modifica)\n",
        "\n",
        "# Para atualizar, é preciso buscar o que deseja atualizar\n",
        "busca = {\"idade\": {\"$lt\":18}}\n",
        "modifica = {\"$set\": {\"emancipado\":\"NÃO\"}}\n",
        "\n",
        "colecao.update_many(busca, modifica)"
      ],
      "metadata": {
        "colab": {
          "base_uri": "https://localhost:8080/"
        },
        "id": "HC1I2LqFO0fC",
        "outputId": "0a21d8e2-e250-45ed-db9a-93bd73c9044d"
      },
      "execution_count": null,
      "outputs": [
        {
          "output_type": "execute_result",
          "data": {
            "text/plain": [
              "<pymongo.results.UpdateResult at 0x7fc757d1c810>"
            ]
          },
          "metadata": {},
          "execution_count": 41
        }
      ]
    },
    {
      "cell_type": "code",
      "source": [
        "# Para atualizar, é preciso buscar o que deseja atualizar\n",
        "busca = {\"idade\":'25'}\n",
        "modifica = {\"$set\": {\"idade\":25}}\n",
        "\n",
        "colecao.update_many(busca, modifica)"
      ],
      "metadata": {
        "colab": {
          "base_uri": "https://localhost:8080/"
        },
        "id": "7dGrfi1_ZFw6",
        "outputId": "abf5d424-ef0c-422a-f470-28ef9282d217"
      },
      "execution_count": null,
      "outputs": [
        {
          "output_type": "execute_result",
          "data": {
            "text/plain": [
              "<pymongo.results.UpdateResult at 0x7fc757d1e190>"
            ]
          },
          "metadata": {},
          "execution_count": 39
        }
      ]
    },
    {
      "cell_type": "markdown",
      "source": [
        "#⭕ **Deletando dados** ⭕"
      ],
      "metadata": {
        "id": "Rv0WU-QkedMi"
      }
    },
    {
      "cell_type": "code",
      "source": [
        "# Deletando a primeira ocorrência\n",
        "colecao.delete_one({'_id':'62ec1ffa8c36a6dbd3aa1ce6'})\n",
        "\n",
        "# Deletando todas as ocorrências\n",
        "colecao.delete_many({'emancipado':'NÂO'})\n",
        "\n",
        "# Deleta a coleção inteira\n",
        "# colecao.drop()"
      ],
      "metadata": {
        "colab": {
          "base_uri": "https://localhost:8080/"
        },
        "id": "DfXlpkG6eewt",
        "outputId": "2f0ea236-a4d8-4558-ae35-afc968f21817"
      },
      "execution_count": null,
      "outputs": [
        {
          "output_type": "execute_result",
          "data": {
            "text/plain": [
              "<pymongo.results.DeleteResult at 0x7fc757ceb850>"
            ]
          },
          "metadata": {},
          "execution_count": 45
        }
      ]
    }
  ]
}